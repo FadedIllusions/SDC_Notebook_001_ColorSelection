{
 "cells": [
  {
   "cell_type": "code",
   "execution_count": 1,
   "metadata": {},
   "outputs": [],
   "source": [
    "# Import Needed Packages\n",
    "import matplotlib.pyplot as plt\n",
    "import matplotlib.image as mpimg\n",
    "import numpy as np"
   ]
  },
  {
   "cell_type": "code",
   "execution_count": 2,
   "metadata": {},
   "outputs": [
    {
     "name": "stdout",
     "output_type": "stream",
     "text": [
      "This Image Is:  <class 'numpy.ndarray'> With Dimensions:  (540, 960, 3)\n"
     ]
    }
   ],
   "source": [
    "# Read In Image\n",
    "image = mpimg.imread('lane_lines.jpg')\n",
    "\n",
    "print(\"This Image Is: \", type(image), \"With Dimensions: \", image.shape)\n",
    "\n",
    "# Grab X And Y Size, Copy Image\n",
    "y_size = image.shape[0]\n",
    "x_size = image.shape[1]\n",
    "\n",
    "color_select = np.copy(image)"
   ]
  },
  {
   "cell_type": "code",
   "execution_count": 3,
   "metadata": {},
   "outputs": [],
   "source": [
    "# Define Color Selection Criteria\n",
    "r_thresh = 210\n",
    "g_thresh = 225\n",
    "b_thresh = 215\n",
    "\n",
    "rgb_thresh = [r_thresh, b_thresh, g_thresh]"
   ]
  },
  {
   "cell_type": "code",
   "execution_count": 4,
   "metadata": {},
   "outputs": [],
   "source": [
    "# Identify Pixels Below Threshold\n",
    "thresholds = (image[:,:,0] < rgb_thresh[0]) \\\n",
    "             | (image[:,:,1] < rgb_thresh[1]) \\\n",
    "             | (image[:,:,2] < rgb_thresh[2])\n",
    "\n",
    "color_select[thresholds] = [0,0,0]"
   ]
  },
  {
   "cell_type": "code",
   "execution_count": 5,
   "metadata": {},
   "outputs": [
    {
     "data": {
      "image/png": "[encoded data removed]",
      "text/plain": [
       "<Figure size 432x288 with 1 Axes>"
      ]
     },
     "metadata": {
      "needs_background": "light"
     },
     "output_type": "display_data"
    }
   ],
   "source": [
    "# Display Image\n",
    "plt.imshow(color_select)\n",
    "plt.show()"
   ]
  }
 ],
 "metadata": {
  "kernelspec": {
   "display_name": "Python 3",
   "language": "python",
   "name": "python3"
  },
  "language_info": {
   "codemirror_mode": {
    "name": "ipython",
    "version": 3
   },
   "file_extension": ".py",
   "mimetype": "text/x-python",
   "name": "python",
   "nbconvert_exporter": "python",
   "pygments_lexer": "ipython3",
   "version": "3.6.9"
  }
 },
 "nbformat": 4,
 "nbformat_minor": 4
}
